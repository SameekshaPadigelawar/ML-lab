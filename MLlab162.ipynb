{
  "nbformat": 4,
  "nbformat_minor": 0,
  "metadata": {
    "colab": {
      "provenance": []
    },
    "kernelspec": {
      "name": "python3",
      "display_name": "Python 3"
    },
    "language_info": {
      "name": "python"
    }
  },
  "cells": [
    {
      "cell_type": "code",
      "execution_count": null,
      "metadata": {
        "colab": {
          "base_uri": "https://localhost:8080/"
        },
        "id": "mpVsJsu5dImE",
        "outputId": "beea78ad-8cb3-44de-d002-7b422a31ba26"
      },
      "outputs": [
        {
          "output_type": "stream",
          "name": "stdout",
          "text": [
            "0     A\n",
            "1     B\n",
            "2     C\n",
            "3     D\n",
            "4     E\n",
            "5     F\n",
            "6     G\n",
            "7     H\n",
            "8     I\n",
            "9     J\n",
            "10    K\n",
            "11    L\n",
            "12    M\n",
            "13    N\n",
            "14    O\n",
            "15    P\n",
            "16    Q\n",
            "17    R\n",
            "18    S\n",
            "19    T\n",
            "20    U\n",
            "21    V\n",
            "22    W\n",
            "23    X\n",
            "24    Y\n",
            "25    Z\n",
            "dtype: object\n"
          ]
        }
      ],
      "source": [
        "import pandas as pd\n",
        "L=[]\n",
        "for i in range(65,91):\n",
        "  L.append(chr(i))\n",
        "s= pd.Series(L)\n",
        "print(s)\n"
      ]
    },
    {
      "cell_type": "code",
      "source": [
        "import pandas as pd\n",
        "s1=pd.Series([0,0,0,0,0], index=['a','e','i','o','u'])\n",
        "print(s1)"
      ],
      "metadata": {
        "colab": {
          "base_uri": "https://localhost:8080/"
        },
        "id": "eTqBMPzgw3cD",
        "outputId": "6fbfca89-5a5a-4df7-9730-1e414c426ca7"
      },
      "execution_count": null,
      "outputs": [
        {
          "output_type": "stream",
          "name": "stdout",
          "text": [
            "a    0\n",
            "e    0\n",
            "i    0\n",
            "o    0\n",
            "u    0\n",
            "dtype: int64\n"
          ]
        }
      ]
    },
    {
      "cell_type": "code",
      "source": [
        "d={\"harshitha\":146, \"rasagna\":151 , \"janvi\":156 , \"rida\":161 , \"shravya\":163}\n",
        "s2=pd.Series(d)\n",
        "print(s2)\n",
        "print(s2.empty)"
      ],
      "metadata": {
        "colab": {
          "base_uri": "https://localhost:8080/"
        },
        "id": "64R1NK8WyF50",
        "outputId": "dee8ed6f-1ae4-4a00-97e1-f61d63938390"
      },
      "execution_count": null,
      "outputs": [
        {
          "output_type": "stream",
          "name": "stdout",
          "text": [
            "harshitha    146\n",
            "rasagna      151\n",
            "janvi        156\n",
            "rida         161\n",
            "shravya      163\n",
            "dtype: int64\n",
            "False\n"
          ]
        }
      ]
    },
    {
      "cell_type": "code",
      "source": [
        "import numpy as np\n",
        "n1=np.array([1,2,3,4,5,6,7,8,9,10,11,12])\n",
        "n2=np.array([31,28,31,30,31,30,31,31,30,31,30,31])\n",
        "s3=pd.Series(n2,index=n1)\n",
        "print(s3)"
      ],
      "metadata": {
        "colab": {
          "base_uri": "https://localhost:8080/"
        },
        "id": "0rHRgmtTzxxD",
        "outputId": "68a12565-8a3b-4a81-d65f-b40eb5c2e3ce"
      },
      "execution_count": null,
      "outputs": [
        {
          "output_type": "stream",
          "name": "stdout",
          "text": [
            "1     31\n",
            "2     28\n",
            "3     31\n",
            "4     30\n",
            "5     31\n",
            "6     30\n",
            "7     31\n",
            "8     31\n",
            "9     30\n",
            "10    31\n",
            "11    30\n",
            "12    31\n",
            "dtype: int64\n"
          ]
        }
      ]
    },
    {
      "cell_type": "code",
      "source": [
        "import pandas as pd\n",
        "s1=pd.Series([10,10,10,10,10], index=['a','e','i','o','u'])\n",
        "\n",
        "print(s1)"
      ],
      "metadata": {
        "colab": {
          "base_uri": "https://localhost:8080/"
        },
        "id": "iUoivM3v02tM",
        "outputId": "7ce7be2a-4fd8-4a9f-a9da-908ee769a463"
      },
      "execution_count": null,
      "outputs": [
        {
          "output_type": "stream",
          "name": "stdout",
          "text": [
            "a    10\n",
            "e    10\n",
            "i    10\n",
            "o    10\n",
            "u    10\n",
            "dtype: int64\n"
          ]
        }
      ]
    },
    {
      "cell_type": "code",
      "source": [
        "import pandas as pd\n",
        "data = {\n",
        "    2014: [100.5, 150.8, 200.9, 30000, 40000],\n",
        "    2015: [12000, 18000, 22000, 30000, 45000],\n",
        "    2016: [20000, 50000, 70000, 100000, 125000],\n",
        "    2017: [50000, 60000, 70000, 80000, 90000]\n",
        "}\n",
        "index = ['Madhu', 'Kusum', 'Kinshuk', 'Ankit', 'Shruti']\n",
        "Sales = pd.DataFrame(data, index=index)\n",
        "print(Sales)\n",
        "print(Sales.index)\n",
        "print(Sales.columns)\n",
        "print(Sales.dtypes)\n",
        "print(Sales.ndim)\n",
        "print(Sales.shape)\n",
        "print(Sales.size)\n",
        "print(Sales.iloc[-2:])\n",
        "print(Sales.iloc[:,:2])\n",
        "data1 = {2018:[160000,110000,500000,340000,900000]}\n",
        "index = ['Madhu', 'Kusum', 'Kinshuk', 'Ankit', 'Shruti']\n",
        "Sales2=pd.DataFrame(data1,index=index)\n",
        "print(Sales2)\n",
        "print(Sales2.empty)\n",
        "newd=Sales.join(Sales2)\n",
        "print(newd)\n",
        "print(Sales.T)\n",
        "print(Sales.loc[:,2017])\n",
        "print(Sales.loc[[\"Madhu\",\"Ankit\"],[2017,2016]])\n",
        "print(Sales.loc[\"Shruti\",2016])\n",
        "newd.loc[\"sumeet\"]= [196.2, 37800, 52000, 78438,38852]\n",
        "print(newd)\n",
        "print(Sales.drop(2014,axis=1))\n",
        "print(Sales.drop(\"Kinshuk\",axis=0))\n",
        "newd=newd.rename({\"Ankit\":\"vivaan\",\"Madhu\":\"Shailesh\"})\n",
        "newd.loc[\"Shailesh\",2018]=100000\n",
        "print(newd)\n",
        "Sales.to_csv(\"SalesFigures.csv\", index=False, header=False)\n",
        "# Read data back (no headers or index)\n",
        "SalesRetrieved = pd.read_csv(\"SalesFigures.csv\", header=None)\n",
        "# Set the same row and column labels as the original Sales\n",
        "SalesRetrieved.index = Sales.index      # Set row labels\n",
        "SalesRetrieved.columns = Sales.columns  # Set column labels\n",
        "print(SalesRetrieved)\n"
      ],
      "metadata": {
        "colab": {
          "base_uri": "https://localhost:8080/"
        },
        "id": "eWe9td9w4NhI",
        "outputId": "e53074cb-32d5-40d8-e2b8-ffbe36b40864"
      },
      "execution_count": null,
      "outputs": [
        {
          "output_type": "stream",
          "name": "stdout",
          "text": [
            "            2014   2015    2016   2017\n",
            "Madhu      100.5  12000   20000  50000\n",
            "Kusum      150.8  18000   50000  60000\n",
            "Kinshuk    200.9  22000   70000  70000\n",
            "Ankit    30000.0  30000  100000  80000\n",
            "Shruti   40000.0  45000  125000  90000\n",
            "Index(['Madhu', 'Kusum', 'Kinshuk', 'Ankit', 'Shruti'], dtype='object')\n",
            "Index([2014, 2015, 2016, 2017], dtype='int64')\n",
            "2014    float64\n",
            "2015      int64\n",
            "2016      int64\n",
            "2017      int64\n",
            "dtype: object\n",
            "2\n",
            "(5, 4)\n",
            "20\n",
            "           2014   2015    2016   2017\n",
            "Ankit   30000.0  30000  100000  80000\n",
            "Shruti  40000.0  45000  125000  90000\n",
            "            2014   2015\n",
            "Madhu      100.5  12000\n",
            "Kusum      150.8  18000\n",
            "Kinshuk    200.9  22000\n",
            "Ankit    30000.0  30000\n",
            "Shruti   40000.0  45000\n",
            "           2018\n",
            "Madhu    160000\n",
            "Kusum    110000\n",
            "Kinshuk  500000\n",
            "Ankit    340000\n",
            "Shruti   900000\n",
            "False\n",
            "            2014   2015    2016   2017    2018\n",
            "Madhu      100.5  12000   20000  50000  160000\n",
            "Kusum      150.8  18000   50000  60000  110000\n",
            "Kinshuk    200.9  22000   70000  70000  500000\n",
            "Ankit    30000.0  30000  100000  80000  340000\n",
            "Shruti   40000.0  45000  125000  90000  900000\n",
            "        Madhu    Kusum  Kinshuk     Ankit    Shruti\n",
            "2014    100.5    150.8    200.9   30000.0   40000.0\n",
            "2015  12000.0  18000.0  22000.0   30000.0   45000.0\n",
            "2016  20000.0  50000.0  70000.0  100000.0  125000.0\n",
            "2017  50000.0  60000.0  70000.0   80000.0   90000.0\n",
            "Madhu      50000\n",
            "Kusum      60000\n",
            "Kinshuk    70000\n",
            "Ankit      80000\n",
            "Shruti     90000\n",
            "Name: 2017, dtype: int64\n",
            "        2017    2016\n",
            "Madhu  50000   20000\n",
            "Ankit  80000  100000\n",
            "125000\n",
            "            2014     2015      2016     2017      2018\n",
            "Madhu      100.5  12000.0   20000.0  50000.0  160000.0\n",
            "Kusum      150.8  18000.0   50000.0  60000.0  110000.0\n",
            "Kinshuk    200.9  22000.0   70000.0  70000.0  500000.0\n",
            "Ankit    30000.0  30000.0  100000.0  80000.0  340000.0\n",
            "Shruti   40000.0  45000.0  125000.0  90000.0  900000.0\n",
            "sumeet     196.2  37800.0   52000.0  78438.0   38852.0\n",
            "          2015    2016   2017\n",
            "Madhu    12000   20000  50000\n",
            "Kusum    18000   50000  60000\n",
            "Kinshuk  22000   70000  70000\n",
            "Ankit    30000  100000  80000\n",
            "Shruti   45000  125000  90000\n",
            "           2014   2015    2016   2017\n",
            "Madhu     100.5  12000   20000  50000\n",
            "Kusum     150.8  18000   50000  60000\n",
            "Ankit   30000.0  30000  100000  80000\n",
            "Shruti  40000.0  45000  125000  90000\n",
            "             2014     2015      2016     2017      2018\n",
            "Shailesh    100.5  12000.0   20000.0  50000.0  100000.0\n",
            "Kusum       150.8  18000.0   50000.0  60000.0  110000.0\n",
            "Kinshuk     200.9  22000.0   70000.0  70000.0  500000.0\n",
            "vivaan    30000.0  30000.0  100000.0  80000.0  340000.0\n",
            "Shruti    40000.0  45000.0  125000.0  90000.0  900000.0\n",
            "sumeet      196.2  37800.0   52000.0  78438.0   38852.0\n",
            "            2014   2015    2016   2017\n",
            "Madhu      100.5  12000   20000  50000\n",
            "Kusum      150.8  18000   50000  60000\n",
            "Kinshuk    200.9  22000   70000  70000\n",
            "Ankit    30000.0  30000  100000  80000\n",
            "Shruti   40000.0  45000  125000  90000\n"
          ]
        }
      ]
    },
    {
      "cell_type": "code",
      "source": [],
      "metadata": {
        "id": "cmTY4_Fmj-qd"
      },
      "execution_count": null,
      "outputs": []
    },
    {
      "cell_type": "code",
      "source": [
        "#14\n",
        "#a\n",
        "import numpy as np\n",
        "import pandas as pd\n",
        "data = {\n",
        "    'Name': ['Alice', 'Bob', 'Carol', 'David', 'Eve'],\n",
        "    'Degree': ['BCA', 'BCA', 'MBA', 'MBA', 'BCA'],\n",
        "    'Marks': [85, np.nan, 90, 80, 88]\n",
        "}\n",
        "\n",
        "df5 = pd.DataFrame(data)\n",
        "#b\n",
        "print(df5.groupby(\"Degree\")[\"Marks\"].max())\n",
        "#c\n",
        "df5[\"Marks\"] = df5[\"Marks\"].fillna(76)\n",
        "#d\n",
        "df5.set_index('Name', inplace=True)\n",
        "#e\n",
        "# print(df5.groupby([\"Name\", \"Degree\"])[\"Marks\"].mean())\n",
        "print(df5.groupby([\"Name\", \"Degree\"])[\"Marks\"].mean())\n",
        "\n",
        "#f\n",
        "print((df5[\"Degree\"] == \"MBA\").sum())\n",
        "#g\n",
        "print(df5[df5[\"Degree\"] == \"BCA\"][\"Marks\"].mode())\n"
      ],
      "metadata": {
        "colab": {
          "base_uri": "https://localhost:8080/"
        },
        "id": "43LO0eELDlKm",
        "outputId": "62e2bf9e-2503-4fc0-ca6f-c501b911f692"
      },
      "execution_count": null,
      "outputs": [
        {
          "output_type": "stream",
          "name": "stdout",
          "text": [
            "Degree\n",
            "BCA    88.0\n",
            "MBA    90.0\n",
            "Name: Marks, dtype: float64\n",
            "Name   Degree\n",
            "Alice  BCA       85.0\n",
            "Bob    BCA       76.0\n",
            "Carol  MBA       90.0\n",
            "David  MBA       80.0\n",
            "Eve    BCA       88.0\n",
            "Name: Marks, dtype: float64\n",
            "2\n",
            "0    76.0\n",
            "1    85.0\n",
            "2    88.0\n",
            "Name: Marks, dtype: float64\n"
          ]
        }
      ]
    },
    {
      "cell_type": "code",
      "source": [
        "import pandas as pd\n",
        "df=pd.read_csv(\"house_price_train.csv\")\n",
        "print(df.head(2))"
      ],
      "metadata": {
        "colab": {
          "base_uri": "https://localhost:8080/"
        },
        "id": "yUvSmTOxk-Cs",
        "outputId": "fc73809c-9797-45c7-bda8-9c30898d2440"
      },
      "execution_count": 6,
      "outputs": [
        {
          "output_type": "stream",
          "name": "stdout",
          "text": [
            "   Id  MSSubClass MSZoning  LotFrontage  LotArea Street Alley LotShape  \\\n",
            "0   1          60       RL         65.0     8450   Pave   NaN      Reg   \n",
            "1   2          20       RL         80.0     9600   Pave   NaN      Reg   \n",
            "\n",
            "  LandContour Utilities  ... PoolArea PoolQC Fence MiscFeature MiscVal MoSold  \\\n",
            "0         Lvl    AllPub  ...        0    NaN   NaN         NaN       0      2   \n",
            "1         Lvl    AllPub  ...        0    NaN   NaN         NaN       0      5   \n",
            "\n",
            "  YrSold  SaleType  SaleCondition  SalePrice  \n",
            "0   2008        WD         Normal     208500  \n",
            "1   2007        WD         Normal     181500  \n",
            "\n",
            "[2 rows x 81 columns]\n"
          ]
        }
      ]
    },
    {
      "cell_type": "code",
      "source": [
        "import numpy as np\n",
        "df.fillna(method=\"ffill\",inplace=True)\n",
        "print(df.isnull().sum())"
      ],
      "metadata": {
        "colab": {
          "base_uri": "https://localhost:8080/"
        },
        "id": "dZJ267K2mMzE",
        "outputId": "5c783686-33ef-4aac-d94a-9310617ec336"
      },
      "execution_count": 7,
      "outputs": [
        {
          "output_type": "stream",
          "name": "stdout",
          "text": [
            "Id               0\n",
            "MSSubClass       0\n",
            "MSZoning         0\n",
            "LotFrontage      0\n",
            "LotArea          0\n",
            "                ..\n",
            "MoSold           0\n",
            "YrSold           0\n",
            "SaleType         0\n",
            "SaleCondition    0\n",
            "SalePrice        0\n",
            "Length: 81, dtype: int64\n"
          ]
        },
        {
          "output_type": "stream",
          "name": "stderr",
          "text": [
            "/tmp/ipython-input-477781754.py:2: FutureWarning: DataFrame.fillna with 'method' is deprecated and will raise in a future version. Use obj.ffill() or obj.bfill() instead.\n",
            "  df.fillna(method=\"ffill\",inplace=True)\n"
          ]
        }
      ]
    },
    {
      "cell_type": "code",
      "source": [
        "from sklearn.model_selection import train_test_split\n",
        "X=df.drop(\"SalePrice\",axis=1)\n",
        "y=df[\"SalePrice\"]\n",
        "x_train,x_test,y_train,y_test= train_test_split(X,y,test_size=0.3,random_state=0)"
      ],
      "metadata": {
        "id": "OoxOK3M0oTUE"
      },
      "execution_count": 8,
      "outputs": []
    },
    {
      "cell_type": "code",
      "source": [
        "from numbers import Number\n",
        "const=[]\n",
        "for feature in x_train.select_dtypes(include=['number']).columns:\n",
        "  if x_train[feature].std()==0:\n",
        "    const.append(feature)\n",
        "print(\"no of constant features \", len(const))\n",
        "x_train.drop(labels=const,axis=1,inplace=True)\n",
        "x_test.drop(labels=const,axis=1,inplace=True)"
      ],
      "metadata": {
        "colab": {
          "base_uri": "https://localhost:8080/"
        },
        "id": "qBHC2jcurY1U",
        "outputId": "9233de64-ca59-4289-f7ac-42d9aa5af19e"
      },
      "execution_count": null,
      "outputs": [
        {
          "output_type": "stream",
          "name": "stdout",
          "text": [
            "no of constant features  0\n"
          ]
        }
      ]
    },
    {
      "cell_type": "code",
      "source": [
        "quasi=[]\n",
        "threshold=0.98\n",
        "for feature in x_train.columns:\n",
        "  freq=x_train[feature].value_counts(normalize=True).max()\n",
        "  if freq>=threshold:\n",
        "    quasi.append(feature)\n",
        "print(quasi)\n",
        "print(\"no of quasi features \", len(quasi))\n",
        "x_train.drop(labels=quasi,axis=1,inplace=True)\n",
        "x_test.drop(labels=quasi,axis=1,inplace=True)"
      ],
      "metadata": {
        "colab": {
          "base_uri": "https://localhost:8080/"
        },
        "id": "xmV_ua01t5Lk",
        "outputId": "2363093e-3d81-4ce3-fbc9-de08e8b04112"
      },
      "execution_count": 9,
      "outputs": [
        {
          "output_type": "stream",
          "name": "stdout",
          "text": [
            "['Street', 'Utilities', 'Condition2', 'LowQualFinSF', '3SsnPorch', 'PoolArea']\n",
            "no of quasi features  6\n"
          ]
        }
      ]
    },
    {
      "cell_type": "code",
      "source": [
        "dup=[]\n",
        "for i in range(len(x_train.columns)):\n",
        "  for j in range(i+1,len(x_train.columns)):\n",
        "    if x_train.iloc[:,i].equals(x_train.iloc[:,j]):\n",
        "      dup.append(x_train.columns[j])\n",
        "print(dup)\n",
        "print(\"no of duplicate features \", len(dup))"
      ],
      "metadata": {
        "colab": {
          "base_uri": "https://localhost:8080/"
        },
        "id": "mY10SKBOxV7i",
        "outputId": "a9986736-d8ef-44cd-e261-319f4b8ccf4e"
      },
      "execution_count": 10,
      "outputs": [
        {
          "output_type": "stream",
          "name": "stdout",
          "text": [
            "[]\n",
            "no of duplicate features  0\n"
          ]
        }
      ]
    },
    {
      "cell_type": "code",
      "source": [
        "corrm=x_train.select_dtypes(include=['number']).corr()\n",
        "upper = corrm.where(np.triu(np.ones(corrm.shape),k=1).astype(bool))\n",
        "d =[col for col in upper.columns if any(upper[col]>0.9) ]\n",
        "print(d)\n",
        "x_train.drop(columns=d, inplace=True)\n",
        "x_test.drop(columns=d, inplace=True)\n"
      ],
      "metadata": {
        "colab": {
          "base_uri": "https://localhost:8080/"
        },
        "id": "_5IjVIDc2UY6",
        "outputId": "643027f9-deb9-4a08-d990-c3d7fe48db87"
      },
      "execution_count": 11,
      "outputs": [
        {
          "output_type": "stream",
          "name": "stdout",
          "text": [
            "[]\n"
          ]
        }
      ]
    },
    {
      "cell_type": "code",
      "source": [
        "from sklearn.feature_selection import SelectKBest, chi2\n",
        "from sklearn.preprocessing import LabelEncoder\n",
        "\n",
        "X_encoded = X.apply(LabelEncoder().fit_transform)\n",
        "\n",
        "chi2_scores = chi2(X_encoded, y)\n",
        "chi2_series = pd.Series(chi2_scores[0], index=X.columns)\n",
        "chi2_series.sort_values(ascending=False)\n"
      ],
      "metadata": {
        "colab": {
          "base_uri": "https://localhost:8080/",
          "height": 458
        },
        "id": "UbPmY3lsxG6c",
        "outputId": "f903a1d1-2595-4647-8435-995da2c6181d"
      },
      "execution_count": null,
      "outputs": [
        {
          "output_type": "execute_result",
          "data": {
            "text/plain": [
              "BsmtFinSF1      175046.761502\n",
              "2ndFlrSF        156662.356995\n",
              "Id              155053.977420\n",
              "LotArea         153258.463160\n",
              "GrLivArea       152684.196937\n",
              "                    ...      \n",
              "CentralAir          53.802335\n",
              "GarageCond          40.785166\n",
              "KitchenAbvGr        28.490834\n",
              "Condition2          27.336481\n",
              "Street               3.650601\n",
              "Length: 80, dtype: float64"
            ],
            "text/html": [
              "<div>\n",
              "<style scoped>\n",
              "    .dataframe tbody tr th:only-of-type {\n",
              "        vertical-align: middle;\n",
              "    }\n",
              "\n",
              "    .dataframe tbody tr th {\n",
              "        vertical-align: top;\n",
              "    }\n",
              "\n",
              "    .dataframe thead th {\n",
              "        text-align: right;\n",
              "    }\n",
              "</style>\n",
              "<table border=\"1\" class=\"dataframe\">\n",
              "  <thead>\n",
              "    <tr style=\"text-align: right;\">\n",
              "      <th></th>\n",
              "      <th>0</th>\n",
              "    </tr>\n",
              "  </thead>\n",
              "  <tbody>\n",
              "    <tr>\n",
              "      <th>BsmtFinSF1</th>\n",
              "      <td>175046.761502</td>\n",
              "    </tr>\n",
              "    <tr>\n",
              "      <th>2ndFlrSF</th>\n",
              "      <td>156662.356995</td>\n",
              "    </tr>\n",
              "    <tr>\n",
              "      <th>Id</th>\n",
              "      <td>155053.977420</td>\n",
              "    </tr>\n",
              "    <tr>\n",
              "      <th>LotArea</th>\n",
              "      <td>153258.463160</td>\n",
              "    </tr>\n",
              "    <tr>\n",
              "      <th>GrLivArea</th>\n",
              "      <td>152684.196937</td>\n",
              "    </tr>\n",
              "    <tr>\n",
              "      <th>...</th>\n",
              "      <td>...</td>\n",
              "    </tr>\n",
              "    <tr>\n",
              "      <th>CentralAir</th>\n",
              "      <td>53.802335</td>\n",
              "    </tr>\n",
              "    <tr>\n",
              "      <th>GarageCond</th>\n",
              "      <td>40.785166</td>\n",
              "    </tr>\n",
              "    <tr>\n",
              "      <th>KitchenAbvGr</th>\n",
              "      <td>28.490834</td>\n",
              "    </tr>\n",
              "    <tr>\n",
              "      <th>Condition2</th>\n",
              "      <td>27.336481</td>\n",
              "    </tr>\n",
              "    <tr>\n",
              "      <th>Street</th>\n",
              "      <td>3.650601</td>\n",
              "    </tr>\n",
              "  </tbody>\n",
              "</table>\n",
              "<p>80 rows × 1 columns</p>\n",
              "</div><br><label><b>dtype:</b> float64</label>"
            ]
          },
          "metadata": {},
          "execution_count": 11
        }
      ]
    },
    {
      "cell_type": "code",
      "source": [
        "from sklearn.feature_selection import f_classif, SelectKBest\n",
        "\n",
        "anova = SelectKBest(score_func=f_classif, k='all')\n",
        "anova.fit(X_encoded, y)\n",
        "\n",
        "anova_scores = pd.Series(anova.scores_, index=X.columns)\n",
        "anova_scores.sort_values(ascending=False)\n"
      ],
      "metadata": {
        "colab": {
          "base_uri": "https://localhost:8080/",
          "height": 458
        },
        "id": "OOcfRnj72Ak9",
        "outputId": "badd8e02-1aa4-4940-98fc-627f0daf047a"
      },
      "execution_count": null,
      "outputs": [
        {
          "output_type": "execute_result",
          "data": {
            "text/plain": [
              "OverallQual      5.729183\n",
              "ExterQual        3.774880\n",
              "GrLivArea        3.221203\n",
              "KitchenQual      2.904745\n",
              "GarageCars       2.861594\n",
              "                   ...   \n",
              "SaleType         0.805063\n",
              "Functional       0.803986\n",
              "EnclosedPorch    0.792162\n",
              "Condition1       0.777743\n",
              "Utilities        0.239796\n",
              "Length: 80, dtype: float64"
            ],
            "text/html": [
              "<div>\n",
              "<style scoped>\n",
              "    .dataframe tbody tr th:only-of-type {\n",
              "        vertical-align: middle;\n",
              "    }\n",
              "\n",
              "    .dataframe tbody tr th {\n",
              "        vertical-align: top;\n",
              "    }\n",
              "\n",
              "    .dataframe thead th {\n",
              "        text-align: right;\n",
              "    }\n",
              "</style>\n",
              "<table border=\"1\" class=\"dataframe\">\n",
              "  <thead>\n",
              "    <tr style=\"text-align: right;\">\n",
              "      <th></th>\n",
              "      <th>0</th>\n",
              "    </tr>\n",
              "  </thead>\n",
              "  <tbody>\n",
              "    <tr>\n",
              "      <th>OverallQual</th>\n",
              "      <td>5.729183</td>\n",
              "    </tr>\n",
              "    <tr>\n",
              "      <th>ExterQual</th>\n",
              "      <td>3.774880</td>\n",
              "    </tr>\n",
              "    <tr>\n",
              "      <th>GrLivArea</th>\n",
              "      <td>3.221203</td>\n",
              "    </tr>\n",
              "    <tr>\n",
              "      <th>KitchenQual</th>\n",
              "      <td>2.904745</td>\n",
              "    </tr>\n",
              "    <tr>\n",
              "      <th>GarageCars</th>\n",
              "      <td>2.861594</td>\n",
              "    </tr>\n",
              "    <tr>\n",
              "      <th>...</th>\n",
              "      <td>...</td>\n",
              "    </tr>\n",
              "    <tr>\n",
              "      <th>SaleType</th>\n",
              "      <td>0.805063</td>\n",
              "    </tr>\n",
              "    <tr>\n",
              "      <th>Functional</th>\n",
              "      <td>0.803986</td>\n",
              "    </tr>\n",
              "    <tr>\n",
              "      <th>EnclosedPorch</th>\n",
              "      <td>0.792162</td>\n",
              "    </tr>\n",
              "    <tr>\n",
              "      <th>Condition1</th>\n",
              "      <td>0.777743</td>\n",
              "    </tr>\n",
              "    <tr>\n",
              "      <th>Utilities</th>\n",
              "      <td>0.239796</td>\n",
              "    </tr>\n",
              "  </tbody>\n",
              "</table>\n",
              "<p>80 rows × 1 columns</p>\n",
              "</div><br><label><b>dtype:</b> float64</label>"
            ]
          },
          "metadata": {},
          "execution_count": 13
        }
      ]
    },
    {
      "cell_type": "code",
      "source": [
        "from sklearn.feature_selection import f_regression\n",
        "\n",
        "f_test = SelectKBest(score_func=f_regression, k='all')\n",
        "f_test.fit(X_encoded, y)\n",
        "\n",
        "f_scores = pd.Series(f_test.scores_, index=X.columns)\n",
        "f_scores.sort_values(ascending=False)\n"
      ],
      "metadata": {
        "colab": {
          "base_uri": "https://localhost:8080/",
          "height": 458
        },
        "id": "cxpdUI4E4Qhs",
        "outputId": "d3d00396-67b9-417f-d5e7-2060ab5e6050"
      },
      "execution_count": null,
      "outputs": [
        {
          "output_type": "execute_result",
          "data": {
            "text/plain": [
              "OverallQual    2436.770591\n",
              "GrLivArea      1323.469110\n",
              "GarageCars     1013.705666\n",
              "GarageArea     1009.287535\n",
              "ExterQual       994.979678\n",
              "                  ...     \n",
              "LandContour       0.348257\n",
              "PoolQC            0.329400\n",
              "Utilities         0.298804\n",
              "Condition2        0.082296\n",
              "MiscFeature       0.010716\n",
              "Length: 80, dtype: float64"
            ],
            "text/html": [
              "<div>\n",
              "<style scoped>\n",
              "    .dataframe tbody tr th:only-of-type {\n",
              "        vertical-align: middle;\n",
              "    }\n",
              "\n",
              "    .dataframe tbody tr th {\n",
              "        vertical-align: top;\n",
              "    }\n",
              "\n",
              "    .dataframe thead th {\n",
              "        text-align: right;\n",
              "    }\n",
              "</style>\n",
              "<table border=\"1\" class=\"dataframe\">\n",
              "  <thead>\n",
              "    <tr style=\"text-align: right;\">\n",
              "      <th></th>\n",
              "      <th>0</th>\n",
              "    </tr>\n",
              "  </thead>\n",
              "  <tbody>\n",
              "    <tr>\n",
              "      <th>OverallQual</th>\n",
              "      <td>2436.770591</td>\n",
              "    </tr>\n",
              "    <tr>\n",
              "      <th>GrLivArea</th>\n",
              "      <td>1323.469110</td>\n",
              "    </tr>\n",
              "    <tr>\n",
              "      <th>GarageCars</th>\n",
              "      <td>1013.705666</td>\n",
              "    </tr>\n",
              "    <tr>\n",
              "      <th>GarageArea</th>\n",
              "      <td>1009.287535</td>\n",
              "    </tr>\n",
              "    <tr>\n",
              "      <th>ExterQual</th>\n",
              "      <td>994.979678</td>\n",
              "    </tr>\n",
              "    <tr>\n",
              "      <th>...</th>\n",
              "      <td>...</td>\n",
              "    </tr>\n",
              "    <tr>\n",
              "      <th>LandContour</th>\n",
              "      <td>0.348257</td>\n",
              "    </tr>\n",
              "    <tr>\n",
              "      <th>PoolQC</th>\n",
              "      <td>0.329400</td>\n",
              "    </tr>\n",
              "    <tr>\n",
              "      <th>Utilities</th>\n",
              "      <td>0.298804</td>\n",
              "    </tr>\n",
              "    <tr>\n",
              "      <th>Condition2</th>\n",
              "      <td>0.082296</td>\n",
              "    </tr>\n",
              "    <tr>\n",
              "      <th>MiscFeature</th>\n",
              "      <td>0.010716</td>\n",
              "    </tr>\n",
              "  </tbody>\n",
              "</table>\n",
              "<p>80 rows × 1 columns</p>\n",
              "</div><br><label><b>dtype:</b> float64</label>"
            ]
          },
          "metadata": {},
          "execution_count": 15
        }
      ]
    },
    {
      "cell_type": "code",
      "source": [
        "from sklearn.feature_selection import chi2\n",
        "from sklearn.preprocessing import LabelEncoder\n",
        "import pandas as pd\n",
        "\n",
        "# Suppose X contains categorical features (strings)\n",
        "# Example:\n",
        "# X = pd.DataFrame({'Color': ['Red', 'Blue', 'Green'], 'Size': ['S', 'M', 'L']})\n",
        "# y = pd.Series(['Yes', 'No', 'Yes'])  # categorical target\n",
        "\n",
        "# Step 1: Encode categorical features as integers\n",
        "X_encoded = X.apply(LabelEncoder().fit_transform)\n",
        "\n",
        "# Step 2: Encode target if it's categorical strings\n",
        "y_encoded = LabelEncoder().fit_transform(y)\n",
        "\n",
        "# Step 3: Apply chi-square test\n",
        "chi2_scores, p_values = chi2(X_encoded, y_encoded)\n",
        "\n",
        "# Step 4: Create a Series to see scores per feature\n",
        "chi2_series = pd.Series(chi2_scores, index=X.columns)\n",
        "\n",
        "# Step 5: Sort scores descending to see most relevant features\n",
        "chi2_series_sorted = chi2_series.sort_values(ascending=False)\n",
        "\n",
        "print(chi2_series_sorted)\n"
      ],
      "metadata": {
        "id": "JwvLs6856AD0",
        "outputId": "cf05b2c2-eb91-4e5d-ab80-a562641bf425",
        "colab": {
          "base_uri": "https://localhost:8080/"
        }
      },
      "execution_count": null,
      "outputs": [
        {
          "output_type": "stream",
          "name": "stdout",
          "text": [
            "BsmtFinSF1      175046.761502\n",
            "2ndFlrSF        156662.356995\n",
            "Id              155053.977420\n",
            "LotArea         153258.463160\n",
            "GrLivArea       152684.196937\n",
            "                    ...      \n",
            "CentralAir          53.802335\n",
            "GarageCond          40.785166\n",
            "KitchenAbvGr        28.490834\n",
            "Condition2          27.336481\n",
            "Street               3.650601\n",
            "Length: 80, dtype: float64\n"
          ]
        }
      ]
    },
    {
      "cell_type": "code",
      "source": [
        "#Data Collection\n",
        "import pandas as pd\n",
        "df = pd.read_csv(\"titanic_train.csv\")\n",
        "print(df.head(5))"
      ],
      "metadata": {
        "colab": {
          "base_uri": "https://localhost:8080/"
        },
        "id": "TcI7YQY4rrUt",
        "outputId": "5c98b14f-cffe-40d7-e731-7c0f718ecb12"
      },
      "execution_count": 15,
      "outputs": [
        {
          "output_type": "stream",
          "name": "stdout",
          "text": [
            "   PassengerId  Survived  Pclass  \\\n",
            "0            1         0       3   \n",
            "1            2         1       1   \n",
            "2            3         1       3   \n",
            "3            4         1       1   \n",
            "4            5         0       3   \n",
            "\n",
            "                                                Name     Sex   Age  SibSp  \\\n",
            "0                            Braund, Mr. Owen Harris    male  22.0      1   \n",
            "1  Cumings, Mrs. John Bradley (Florence Briggs Th...  female  38.0      1   \n",
            "2                             Heikkinen, Miss. Laina  female  26.0      0   \n",
            "3       Futrelle, Mrs. Jacques Heath (Lily May Peel)  female  35.0      1   \n",
            "4                           Allen, Mr. William Henry    male  35.0      0   \n",
            "\n",
            "   Parch            Ticket     Fare Cabin Embarked  \n",
            "0      0         A/5 21171   7.2500   NaN        S  \n",
            "1      0          PC 17599  71.2833   C85        C  \n",
            "2      0  STON/O2. 3101282   7.9250   NaN        S  \n",
            "3      0            113803  53.1000  C123        S  \n",
            "4      0            373450   8.0500   NaN        S  \n"
          ]
        }
      ]
    },
    {
      "cell_type": "code",
      "source": [
        "#Handling null values\n",
        "df.ffill(inplace=True) #Forward fill\n",
        "df.bfill(inplace=True) #Backward fill\n",
        "print(df.isnull().any())  #If any null values, returns True"
      ],
      "metadata": {
        "colab": {
          "base_uri": "https://localhost:8080/"
        },
        "id": "g-RfxiSlrvwi",
        "outputId": "462543ea-34b0-4a6c-bc82-6a6048b43c95"
      },
      "execution_count": 16,
      "outputs": [
        {
          "output_type": "stream",
          "name": "stdout",
          "text": [
            "PassengerId    False\n",
            "Survived       False\n",
            "Pclass         False\n",
            "Name           False\n",
            "Sex            False\n",
            "Age            False\n",
            "SibSp          False\n",
            "Parch          False\n",
            "Ticket         False\n",
            "Fare           False\n",
            "Cabin          False\n",
            "Embarked       False\n",
            "dtype: bool\n"
          ]
        }
      ]
    },
    {
      "cell_type": "code",
      "source": [
        "#Handling different columns\n",
        "#Drop ones that don't contribute\n",
        "df.drop('PassengerId',axis=1,inplace=True)"
      ],
      "metadata": {
        "id": "y2iTZh2tr3v6"
      },
      "execution_count": 17,
      "outputs": []
    },
    {
      "cell_type": "code",
      "source": [
        "#Encode nominal categorical values\n",
        "df[\"Sex\"]=df[\"Sex\"].map({\"male\":0,\"female\":1})"
      ],
      "metadata": {
        "id": "ZSvbyjrvr8-F"
      },
      "execution_count": 18,
      "outputs": []
    },
    {
      "cell_type": "code",
      "source": [
        "#Extract useful prefixes\n",
        "import re\n",
        "df[\"Title\"]=df[\"Name\"].str.extract(r\",\\s*([^\\.]+)\\.\")\n",
        "df.drop(\"Name\",axis=1,inplace=True)\n",
        "df[\"Deck\"] = df[\"Ticket\"].str.extract(r\"([A-Za-z\\.]+)\")\n",
        "df[\"Deck\"] = df[\"Deck\"].fillna(\"NoPrefix\")\n",
        "df.drop(\"Ticket\", axis=1, inplace=True)\n",
        "#But too many prefixes for deck\n",
        "threshold=10\n",
        "prefix_counts = df[\"Deck\"].value_counts()\n",
        "rare_prefixes = prefix_counts[prefix_counts < threshold].index\n",
        "df[\"Deck\"] = df[\"Deck\"].replace(rare_prefixes, 'Other')\n",
        "# One-Hot Encode 'Deck' column, drop_first=True avoids dummy variable trap\n",
        "df = pd.get_dummies(df, columns=[\"Deck\"], drop_first=True)"
      ],
      "metadata": {
        "id": "tsG16qb0sHd1"
      },
      "execution_count": 19,
      "outputs": []
    },
    {
      "cell_type": "code",
      "source": [
        "#After data preprocessing\n",
        "print(df.head(2))"
      ],
      "metadata": {
        "colab": {
          "base_uri": "https://localhost:8080/"
        },
        "id": "r8cqEXECsLuU",
        "outputId": "8b2d95b5-8f1a-4c97-e1db-d20b5dfd8aa9"
      },
      "execution_count": 20,
      "outputs": [
        {
          "output_type": "stream",
          "name": "stdout",
          "text": [
            "   Survived  Pclass  Sex   Age  SibSp  Parch     Fare Cabin Embarked Title  \\\n",
            "0         0       3    0  22.0      1      0   7.2500   C85        S    Mr   \n",
            "1         1       1    1  38.0      1      0  71.2833   C85        C   Mrs   \n",
            "\n",
            "   Deck_C.A.  Deck_NoPrefix  Deck_Other  Deck_PC  Deck_SC  Deck_SOTON  \\\n",
            "0      False          False       False    False    False       False   \n",
            "1      False          False       False     True    False       False   \n",
            "\n",
            "   Deck_STON  \n",
            "0      False  \n",
            "1      False  \n"
          ]
        }
      ]
    },
    {
      "cell_type": "code",
      "source": [
        "#Data Splitting\n",
        "from sklearn.model_selection import train_test_split\n",
        "X=df.drop(\"Survived\",axis=1)\n",
        "y=df[\"Survived\"]\n",
        "X_train,X_test,y_train,y_test=train_test_split(X,y,test_size=0.3,random_state=42,stratify=y)"
      ],
      "metadata": {
        "id": "WGKic5fZsRca"
      },
      "execution_count": 21,
      "outputs": []
    },
    {
      "cell_type": "code",
      "source": [
        "#Basic Filter methods\n",
        "cat_columns = X_train.select_dtypes(include=[\"object\"]).columns.tolist()\n",
        "X_train=pd.get_dummies(X_train,columns=cat_columns,drop_first=True)\n",
        "X_train=X_train.astype(int)\n",
        "X_test=pd.get_dummies(X_test,columns=cat_columns,drop_first=True)\n",
        "X_test=X_test.astype(int)\n",
        "#Removing Constant features\n",
        "const = []\n",
        "for features in X_train:\n",
        "  if(X_train[features].std()==0):\n",
        "    const.append(features)\n",
        "print(\"Number of constant features:\",len(const))\n",
        "X_train.drop(labels=const,axis=1,inplace=True)\n",
        "X_test.drop(labels=const,axis=1,inplace=True)\n",
        "\n",
        "#Removing quasi constant features\n",
        "quasi_constant = []\n",
        "for feature in X_train.columns:\n",
        "  predominant = (X_train[feature].value_counts()/float(len(X_train))).sort_values(ascending=False).values[0]\n",
        "  if(predominant>0.999):\n",
        "    quasi_constant.append(feature)\n",
        "print(\"Number of quasi constant features:\",len(quasi_constant))\n",
        "X_train.drop(labels=quasi_constant,axis=1,inplace=True)\n",
        "X_test.drop(labels=quasi_constant,axis=1,inplace=True)#Apply same removal to X_test\n",
        "\n",
        "#Duplicated features\n",
        "duplicates = []\n",
        "for i in range(len(X_train.columns)):\n",
        "  col1 = X_train.columns[i]\n",
        "  for col2 in X_train.columns[i+1:]:\n",
        "    if(X_train[col1].equals(X_train[col2])): #Not ==, as it won't return a single True of False\n",
        "      duplicates.append(col2)\n",
        "print(\"Number of duplicate features:\",len(duplicates))\n",
        "X_train.drop(labels=duplicates,axis=1,inplace=True)\n",
        "X_test.drop(labels=duplicates,axis=1,inplace=True)#Apply same removal to X_test\n"
      ],
      "metadata": {
        "colab": {
          "base_uri": "https://localhost:8080/"
        },
        "id": "_cQnrq6ZsWo-",
        "outputId": "fc08cc8d-38a4-4a89-cf0c-f41d21e19e6c"
      },
      "execution_count": 22,
      "outputs": [
        {
          "output_type": "stream",
          "name": "stdout",
          "text": [
            "Number of constant features: 0\n",
            "Number of quasi constant features: 0\n",
            "Number of duplicate features: 0\n"
          ]
        }
      ]
    },
    {
      "cell_type": "code",
      "source": [
        "#Statistical Filter Methods\n",
        "num_features=[col for col in X_train.columns if not set(X_train[col].unique()).issubset({0,1})]\n",
        "cat_features = [col for col in X_train.columns if set(X_train[col].unique()).issubset({0,1})]\n",
        "from sklearn.feature_selection import f_classif,SelectKBest\n",
        "#1. Anova\n",
        "f_values,p_values = f_classif(X_train[num_features],y_train)\n",
        "anova_df=pd.DataFrame({\n",
        "    \"Numerical Features\":num_features,\n",
        "    \"F_values\":f_values,\n",
        "    \"P_values\":p_values\n",
        "    })\n",
        "anova_df.sort_values(by=\"P_values\",inplace=True)\n",
        "significant_numeric_features = anova_df[anova_df[\"P_values\"]<0.05][\"Numerical Features\"].tolist()\n",
        "print(\"Selected Numerical Features:\", significant_numeric_features)\n",
        "#2.chi2\n",
        "from sklearn.feature_selection import chi2\n",
        "chi2_values,p_values=chi2(X_train[cat_features],y_train)\n",
        "chi2_df=pd.DataFrame({\n",
        "    \"Categorical Features\":cat_features,\n",
        "    \"Chi2_values\":chi2_values,\n",
        "    \"p_values\":p_values\n",
        "     })\n",
        "chi2_df.sort_values(by=\"p_values\",inplace=True)\n",
        "significant_chi2_features=chi2_df[chi2_df[\"p_values\"]<0.05][\"Categorical Features\"].tolist()\n",
        "print(\"Selected Features from Chi2 test:\", significant_chi2_features)\n",
        "#3. Mutual info\n",
        "from sklearn.feature_selection import mutual_info_classif,SelectKBest\n",
        "selector = SelectKBest(score_func=mutual_info_classif,k=10)\n",
        "selector.fit(X_train[cat_features],y_train)\n",
        "significant_mi_features=X_train[cat_features].columns[selector.get_support()].tolist()\n",
        "print(\"Selected Features from MI test:\",significant_mi_features)\n",
        "final_selected_features=list(set(significant_numeric_features+significant_chi2_features+significant_mi_features)) #Set conversion is for removing duplicates, converting to list is to use it as indexer\n",
        "#Filter\n",
        "X_train=X_train[final_selected_features]\n",
        "for col in X_train.columns:\n",
        "    if col not in X_test.columns:\n",
        "        X_test[col] = 0\n",
        "X_test = X_test[X_train.columns]"
      ],
      "metadata": {
        "colab": {
          "base_uri": "https://localhost:8080/"
        },
        "id": "YxTFF5phseaF",
        "outputId": "aaecc51e-e9d0-41ed-ef61-12ca71713ac7"
      },
      "execution_count": 23,
      "outputs": [
        {
          "output_type": "stream",
          "name": "stdout",
          "text": [
            "Selected Numerical Features: ['Pclass', 'Fare', 'Parch', 'Age']\n",
            "Selected Features from Chi2 test: ['Sex', 'Title_Mr', 'Title_Mrs', 'Title_Miss', 'Deck_PC', 'Embarked_S', 'Cabin_A34', 'Cabin_D33', 'Cabin_C110', 'Title_Master']\n",
            "Selected Features from MI test: ['Sex', 'Cabin_A19', 'Cabin_C50', 'Cabin_C65', 'Cabin_D33', 'Cabin_E63', 'Embarked_Q', 'Title_Miss', 'Title_Mr', 'Title_Mrs']\n"
          ]
        }
      ]
    },
    {
      "cell_type": "code",
      "source": [
        "#Dataset after data preprocessing and feature selection\n",
        "print(X_train.columns)\n",
        "print(X_train.head(3))"
      ],
      "metadata": {
        "colab": {
          "base_uri": "https://localhost:8080/"
        },
        "id": "-1-Es4sLsjns",
        "outputId": "3af15605-b5ee-4bff-d048-f512b156de51"
      },
      "execution_count": 24,
      "outputs": [
        {
          "output_type": "stream",
          "name": "stdout",
          "text": [
            "Index(['Sex', 'Cabin_C50', 'Title_Mr', 'Parch', 'Embarked_Q', 'Embarked_S',\n",
            "       'Title_Miss', 'Age', 'Deck_PC', 'Title_Master', 'Fare', 'Cabin_A34',\n",
            "       'Pclass', 'Cabin_D33', 'Cabin_E63', 'Cabin_C110', 'Cabin_A19',\n",
            "       'Cabin_C65', 'Title_Mrs'],\n",
            "      dtype='object')\n",
            "     Sex  Cabin_C50  Title_Mr  Parch  Embarked_Q  Embarked_S  Title_Miss  Age  \\\n",
            "748    0          0         1      0           0           1           0   19   \n",
            "45     0          0         1      0           0           1           0   19   \n",
            "28     1          0         0      0           1           0           1   19   \n",
            "\n",
            "     Deck_PC  Title_Master  Fare  Cabin_A34  Pclass  Cabin_D33  Cabin_E63  \\\n",
            "748        0             0    53          0       1          0          0   \n",
            "45         0             0     8          0       3          0          0   \n",
            "28         0             0     7          0       3          0          0   \n",
            "\n",
            "     Cabin_C110  Cabin_A19  Cabin_C65  Title_Mrs  \n",
            "748           0          0          0          0  \n",
            "45            0          0          0          0  \n",
            "28            0          0          0          0  \n"
          ]
        }
      ]
    },
    {
      "cell_type": "code",
      "source": [
        "#Data Collection\n",
        "import pandas as pd\n",
        "df = pd.read_csv(\"Santander Customer Satisfaction_train.csv\")"
      ],
      "metadata": {
        "id": "9mMCwEoWvbKA"
      },
      "execution_count": 36,
      "outputs": []
    },
    {
      "cell_type": "code",
      "source": [
        "y = df[\"TARGET\"]\n",
        "X = df.drop(\"TARGET\", axis=1)\n"
      ],
      "metadata": {
        "id": "cuThmgLxvo-K"
      },
      "execution_count": 37,
      "outputs": []
    },
    {
      "cell_type": "code",
      "source": [
        "num_fea = X.select_dtypes(include=[\"number\"]).columns.tolist()\n",
        "cat_fea = X.select_dtypes(include=[\"object\", \"category\"]).columns.tolist()"
      ],
      "metadata": {
        "id": "yCIxjrYZvsuP"
      },
      "execution_count": 38,
      "outputs": []
    },
    {
      "cell_type": "code",
      "source": [
        "X[num_fea] = X[num_fea].fillna(X[num_fea].median())\n",
        "X[cat_fea] = X[cat_fea].fillna(\"Unknown\")\n"
      ],
      "metadata": {
        "id": "EOz2WXfCv2aR"
      },
      "execution_count": 39,
      "outputs": []
    },
    {
      "cell_type": "code",
      "source": [
        "X = pd.get_dummies(X, columns=cat_fea, drop_first=True)\n",
        "if \"ID\" in X.columns:\n",
        "    X.drop(columns=[\"ID\"], inplace=True)"
      ],
      "metadata": {
        "id": "CubaFGiqv6N_"
      },
      "execution_count": 40,
      "outputs": []
    },
    {
      "cell_type": "code",
      "source": [
        "from sklearn.model_selection import train_test_split\n",
        "X_train, X_test, y_train, y_test = train_test_split(\n",
        "    X, y, test_size=0.3, random_state=42, stratify=y\n",
        ")"
      ],
      "metadata": {
        "id": "jJu1YyPvwFHm"
      },
      "execution_count": 41,
      "outputs": []
    },
    {
      "cell_type": "code",
      "source": [
        "#Basic filter methods\n",
        "#1.Removing Constant features\n",
        "const = []\n",
        "for features in X_train:\n",
        "  if(X_train[features].std()==0):\n",
        "    const.append(features)\n",
        "print(\"Number of constant features:\",len(const))\n",
        "X_train.drop(labels=const,axis=1,inplace=True)\n",
        "X_test.drop(labels=const,axis=1,inplace=True)\n",
        "\n",
        "#2.Removing quasi constant features\n",
        "quasi_constant = []\n",
        "for feature in X_train.columns:\n",
        "  predominant = (X_train[feature].value_counts()/float(len(X_train))).sort_values(ascending=False).values[0]\n",
        "  if(predominant>0.999):\n",
        "    quasi_constant.append(feature)\n",
        "print(\"Number of quasi constant features:\",len(quasi_constant))\n",
        "X_train.drop(labels=quasi_constant,axis=1,inplace=True)\n",
        "X_test.drop(labels=quasi_constant,axis=1,inplace=True)#Apply same removal to X_test\n",
        "\n",
        "#3.Duplicated features\n",
        "duplicates = []\n",
        "for i in range(len(X_train.columns)):\n",
        "  col1 = X_train.columns[i]\n",
        "  for col2 in X_train.columns[i+1:]:\n",
        "    if(X_train[col1].equals(X_train[col2])): #Not ==, as it won't return a single True of False\n",
        "      duplicates.append(col2)\n",
        "print(\"Number of duplicate features:\",len(duplicates))\n",
        "X_train.drop(labels=duplicates,axis=1,inplace=True)\n",
        "X_test.drop(labels=duplicates,axis=1,inplace=True)#Apply same removal to X_test\n"
      ],
      "metadata": {
        "colab": {
          "base_uri": "https://localhost:8080/"
        },
        "id": "nB5k1v3Dwu-7",
        "outputId": "24031a43-a5e3-49ac-81f9-db5b69114ee2"
      },
      "execution_count": 42,
      "outputs": [
        {
          "output_type": "stream",
          "name": "stdout",
          "text": [
            "Number of constant features: 57\n",
            "Number of quasi constant features: 89\n",
            "Number of duplicate features: 10\n"
          ]
        }
      ]
    },
    {
      "cell_type": "code",
      "source": [
        "#Statistical Filter Methods\n",
        "num_features=[col for col in X_train.columns if not set(X_train[col].unique()).issubset({0,1})]\n",
        "cat_features = [col for col in X_train.columns if set(X_train[col].unique()).issubset({0,1})]\n",
        "from sklearn.feature_selection import f_classif,SelectKBest\n",
        "#1. Anova\n",
        "f_values,p_values = f_classif(X_train[num_features],y_train)\n",
        "anova_df=pd.DataFrame({\n",
        "    \"Numerical Features\":num_features,\n",
        "    \"F_values\":f_values,\n",
        "    \"P_values\":p_values\n",
        "    })\n",
        "anova_df.sort_values(by=\"P_values\",inplace=True)\n",
        "significant_numeric_features = anova_df[anova_df[\"P_values\"]<0.05][\"Numerical Features\"].tolist()\n",
        "print(\"Selected Numerical Features:\", significant_numeric_features)\n",
        "#2.chi2\n",
        "from sklearn.feature_selection import chi2\n",
        "chi2_values,p_values=chi2(X_train[cat_features],y_train)\n",
        "chi2_df=pd.DataFrame({\n",
        "    \"Categorical Features\":cat_features,\n",
        "    \"Chi2_values\":chi2_values,\n",
        "    \"p_values\":p_values\n",
        "     })\n",
        "chi2_df.sort_values(by=\"p_values\",inplace=True)\n",
        "significant_chi2_features=chi2_df[chi2_df[\"p_values\"]<0.05][\"Categorical Features\"].tolist()\n",
        "print(\"Selected Features from Chi2 test:\", significant_chi2_features)\n",
        "#3. Mutual info\n",
        "from sklearn.feature_selection import mutual_info_classif,SelectKBest\n",
        "selector = SelectKBest(score_func=mutual_info_classif,k=10)\n",
        "selector.fit(X_train[cat_features],y_train)\n",
        "significant_mi_features=X_train[cat_features].columns[selector.get_support()].tolist()\n",
        "print(\"Selected Features from MI test:\",significant_mi_features)\n",
        "final_selected_features=list(set(significant_numeric_features+significant_chi2_features+significant_mi_features))\n",
        "#Filter\n",
        "X_train=X_train[final_selected_features]\n",
        "for col in X_train.columns:\n",
        "    if col not in X_test.columns:\n",
        "        X_test[col] = 0\n",
        "X_test = X_test[X_train.columns]"
      ],
      "metadata": {
        "colab": {
          "base_uri": "https://localhost:8080/"
        },
        "id": "C4E3mJ3Dw17N",
        "outputId": "4cee0c67-ecaa-47d8-c9f7-b162ec53227f"
      },
      "execution_count": 43,
      "outputs": [
        {
          "output_type": "stream",
          "name": "stdout",
          "text": [
            "Selected Numerical Features: ['num_meses_var5_ult3', 'num_var30', 'num_var5', 'num_var42', 'var15', 'var36', 'num_var4', 'num_var35', 'num_var8_0', 'num_var13', 'num_var13_0', 'saldo_var30', 'num_meses_var13_corto_ult3', 'num_var13_corto', 'num_var13_corto_0', 'num_var12', 'imp_op_var39_efect_ult1', 'num_var5_0', 'imp_op_var41_efect_ult1', 'num_var8', 'num_var24', 'num_var30_0', 'num_meses_var12_ult3', 'num_var22_ult1', 'saldo_var13', 'num_var24_0', 'num_meses_var8_ult3', 'imp_op_var39_efect_ult3', 'num_var41_0', 'imp_op_var41_ult1', 'imp_op_var39_ult1', 'imp_op_var41_efect_ult3', 'num_aport_var13_hace3', 'num_var39_0', 'saldo_var13_corto', 'saldo_medio_var13_corto_ult1', 'num_op_var39_efect_ult1', 'saldo_medio_var13_corto_ult3', 'num_op_var41_efect_ult1', 'saldo_var42', 'num_var26_0', 'num_var25_0', 'saldo_medio_var13_corto_hace2', 'imp_aport_var13_hace3', 'num_op_var39_efect_ult3', 'saldo_var12', 'saldo_var24', 'num_var12_0', 'num_op_var41_efect_ult3', 'saldo_medio_var12_ult3', 'saldo_medio_var12_ult1', 'num_med_var22_ult3', 'saldo_medio_var5_hace2', 'num_var13_largo_0', 'num_var13_largo', 'saldo_medio_var5_ult3', 'num_meses_var13_largo_ult3', 'num_var43_recib_ult1', 'var38', 'saldo_medio_var12_hace2', 'saldo_medio_var5_hace3', 'saldo_medio_var5_ult1', 'num_var22_ult3', 'num_sal_var16_ult1', 'saldo_var13_largo', 'saldo_medio_var13_corto_hace3', 'num_var45_ult1', 'saldo_var5', 'num_var42_0', 'saldo_medio_var13_largo_ult3', 'saldo_medio_var13_largo_hace2', 'num_op_var39_ult1', 'saldo_medio_var13_largo_ult1', 'num_op_var41_ult1', 'saldo_var40', 'num_var40', 'num_var1', 'num_var20_0', 'num_var22_hace2', 'saldo_medio_var12_hace3', 'imp_trans_var37_ult1', 'num_op_var41_ult3', 'num_op_var39_ult3', 'num_var20', 'num_ent_var16_ult1', 'imp_aport_var13_ult1', 'num_trasp_var11_ult1']\n",
            "Selected Features from Chi2 test: ['ind_var5', 'ind_var30', 'ind_var8_0', 'ind_var13', 'ind_var13_0', 'ind_var12_0', 'ind_var13_corto', 'ind_var13_corto_0', 'ind_var12', 'ind_var8', 'ind_var24', 'ind_var24_0', 'ind_var26_cte', 'ind_var25_cte', 'ind_var26_0', 'ind_var25_0', 'ind_var14_0', 'ind_var43_recib_ult1', 'ind_var13_largo_0', 'ind_var13_largo', 'ind_var40', 'ind_var1', 'ind_var20_0', 'ind_var19', 'ind_var39_0', 'ind_var10_ult1', 'ind_var41_0', 'ind_var20', 'ind_var10cte_ult1', 'ind_var9_ult1', 'ind_var31_0']\n",
            "Selected Features from MI test: ['ind_var5_0', 'ind_var5', 'ind_var12_0', 'ind_var14_0', 'ind_var26_cte', 'ind_var30_0', 'ind_var30', 'ind_var39_0', 'ind_var41_0', 'ind_var43_emit_ult1']\n"
          ]
        }
      ]
    },
    {
      "cell_type": "code",
      "source": [
        "#Dataset after data preprocessing and feature selection\n",
        "print(X_train.columns)"
      ],
      "metadata": {
        "colab": {
          "base_uri": "https://localhost:8080/"
        },
        "id": "SveENPsaw_7y",
        "outputId": "3e1b049b-35da-4278-b57c-70315fc96e13"
      },
      "execution_count": 44,
      "outputs": [
        {
          "output_type": "stream",
          "name": "stdout",
          "text": [
            "Index(['ind_var26_cte', 'ind_var13_largo', 'saldo_var12',\n",
            "       'num_meses_var13_largo_ult3', 'imp_op_var41_efect_ult1',\n",
            "       'saldo_medio_var12_ult1', 'num_var5', 'imp_op_var39_efect_ult3',\n",
            "       'saldo_var24', 'saldo_medio_var13_largo_hace2',\n",
            "       ...\n",
            "       'ind_var20', 'ind_var5', 'saldo_medio_var13_largo_ult3',\n",
            "       'num_var13_corto', 'saldo_medio_var12_hace3', 'ind_var26_0',\n",
            "       'ind_var43_recib_ult1', 'num_var22_ult3', 'num_var4',\n",
            "       'num_med_var22_ult3'],\n",
            "      dtype='object', length=121)\n"
          ]
        }
      ]
    },
    {
      "cell_type": "code",
      "source": [
        "from sklearn.linear_model import LogisticRegression\n",
        "from sklearn.metrics import accuracy_score, classification_report, confusion_matrix\n",
        "\n",
        "# # 1. Split the dataset (if not already done)\n",
        "# from sklearn.model_selection import train_test_split\n",
        "# X_train, X_test, y_train, y_test = train_test_split(\n",
        "#     X, y, test_size=0.3, random_state=42, stratify=y\n",
        "# )\n",
        "\n",
        "# 2. Initialize Logistic Regression model\n",
        "log_reg = LogisticRegression(max_iter=1000)  # increase iterations if convergence warning\n",
        "\n",
        "# 3. Train the model\n",
        "log_reg.fit(X_train, y_train)\n",
        "\n",
        "# 4. Make predictions\n",
        "y_pred = log_reg.predict(X_test)\n",
        "\n",
        "# 5. Evaluate the model\n",
        "print(\"Accuracy:\", accuracy_score(y_test, y_pred))\n",
        "print(\"\\nClassification Report:\\n\", classification_report(y_test, y_pred))\n",
        "print(\"\\nConfusion Matrix:\\n\", confusion_matrix(y_test, y_pred))\n"
      ],
      "metadata": {
        "colab": {
          "base_uri": "https://localhost:8080/"
        },
        "id": "RZA02387yUHF",
        "outputId": "31c9e92f-7d9f-47c5-a492-81d24f0c6493"
      },
      "execution_count": 45,
      "outputs": [
        {
          "output_type": "stream",
          "name": "stdout",
          "text": [
            "Accuracy: 0.9602297640971674\n",
            "\n",
            "Classification Report:\n",
            "               precision    recall  f1-score   support\n",
            "\n",
            "           0       0.96      1.00      0.98     21904\n",
            "           1       0.00      0.00      0.00       902\n",
            "\n",
            "    accuracy                           0.96     22806\n",
            "   macro avg       0.48      0.50      0.49     22806\n",
            "weighted avg       0.92      0.96      0.94     22806\n",
            "\n",
            "\n",
            "Confusion Matrix:\n",
            " [[21899     5]\n",
            " [  902     0]]\n"
          ]
        },
        {
          "output_type": "stream",
          "name": "stderr",
          "text": [
            "/usr/local/lib/python3.12/dist-packages/sklearn/linear_model/_logistic.py:465: ConvergenceWarning: lbfgs failed to converge (status=1):\n",
            "STOP: TOTAL NO. OF ITERATIONS REACHED LIMIT.\n",
            "\n",
            "Increase the number of iterations (max_iter) or scale the data as shown in:\n",
            "    https://scikit-learn.org/stable/modules/preprocessing.html\n",
            "Please also refer to the documentation for alternative solver options:\n",
            "    https://scikit-learn.org/stable/modules/linear_model.html#logistic-regression\n",
            "  n_iter_i = _check_optimize_result(\n"
          ]
        }
      ]
    }
  ]
}